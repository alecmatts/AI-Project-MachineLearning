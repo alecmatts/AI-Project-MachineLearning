{
 "metadata": {
  "language_info": {
   "codemirror_mode": {
    "name": "ipython",
    "version": 3
   },
   "file_extension": ".py",
   "mimetype": "text/x-python",
   "name": "python",
   "nbconvert_exporter": "python",
   "pygments_lexer": "ipython3",
   "version": "3.7.9-final"
  },
  "orig_nbformat": 2,
  "kernelspec": {
   "name": "python37964bittfconda3858df1c12d64690a67b7a8b0c2d6f56",
   "display_name": "Python 3.7.9 64-bit ('tf': conda)"
  }
 },
 "nbformat": 4,
 "nbformat_minor": 2,
 "cells": [
  {
   "cell_type": "code",
   "execution_count": null,
   "metadata": {
    "tags": []
   },
   "outputs": [],
   "source": [
    "import numpy\n",
    "import pandas\n",
    "import tensorflow as tf\n",
    "import matplotlib.pyplot as plt\n",
    "from sklearn.model_selection import train_test_split"
   ]
  },
  {
   "cell_type": "code",
   "execution_count": null,
   "metadata": {
    "tags": []
   },
   "outputs": [],
   "source": [
    "train_set = pandas.read_csv('emnist-bymerge-train.csv')\n",
    "test_set = pandas.read_csv('emnist-bymerge-test.csv')"
   ]
  },
  {
   "cell_type": "code",
   "execution_count": null,
   "metadata": {},
   "outputs": [],
   "source": [
    "train_set = train_set.iloc[numpy.random.permutation(len(train_set))]\n",
    "test_set = test_set.iloc[numpy.random.permutation(len(test_set))]"
   ]
  },
  {
   "cell_type": "code",
   "execution_count": null,
   "metadata": {},
   "outputs": [],
   "source": [
    "train_label = numpy.array(train_set.iloc[:,0].values)\n",
    "train_data = numpy.array(train_set.iloc[:,1:].values)\n",
    "\n",
    "test_label = numpy.array(test_set.iloc[:,0].values)\n",
    "test_data = numpy.array(test_set.iloc[:,1:].values)"
   ]
  },
  {
   "cell_type": "code",
   "execution_count": null,
   "metadata": {},
   "outputs": [],
   "source": [
    "train_data, valid_data, train_label, valid_label = train_test_split(train_data, train_label, test_size=0.1)"
   ]
  },
  {
   "cell_type": "code",
   "execution_count": null,
   "metadata": {},
   "outputs": [],
   "source": [
    "label = {\n",
    "    0: '0',\n",
    "    1: '1',\n",
    "    2: '2',\n",
    "    3: '3',\n",
    "    4: '4',\n",
    "    5: '5',\n",
    "    6: '6', \n",
    "    7: '7',\n",
    "    8: '8', \n",
    "    9: '9',\n",
    "    10: 'A',\n",
    "    11: 'B',\n",
    "    12: 'C',\n",
    "    13: 'D',\n",
    "    14: 'E',\n",
    "    15: 'F',\n",
    "    16: 'G',\n",
    "    17: 'H',\n",
    "    18: 'I',\n",
    "    19: 'J',\n",
    "    20: 'K',\n",
    "    21: 'L',\n",
    "    22: 'M',\n",
    "    23: 'N',\n",
    "    24: 'O',\n",
    "    25: 'P',\n",
    "    26: 'Q',\n",
    "    27: 'R',\n",
    "    28: 'S',\n",
    "    29: 'T',\n",
    "    30: 'U',\n",
    "    31: 'V',\n",
    "    32: 'W',\n",
    "    33: 'X',\n",
    "    34: 'Y',\n",
    "    35: 'Z',\n",
    "    36: 'a',\n",
    "    37: 'b',\n",
    "    38: 'd',\n",
    "    39: 'e',\n",
    "    40: 'f',\n",
    "    41: 'g',\n",
    "    42: 'h',\n",
    "    43: 'n',\n",
    "    44: 'q',\n",
    "    45: 'r',\n",
    "    46: 't'\n",
    "}"
   ]
  },
  {
   "cell_type": "code",
   "execution_count": null,
   "metadata": {},
   "outputs": [],
   "source": [
    "# Transform label\n",
    "train_label = tf.keras.utils.to_categorical(train_label, 47)\n",
    "valid_label = tf.keras.utils.to_categorical(valid_label, 47)\n",
    "test_label = tf.keras.utils.to_categorical(test_label, 47)"
   ]
  },
  {
   "cell_type": "code",
   "execution_count": null,
   "metadata": {},
   "outputs": [],
   "source": [
    "train_data = train_data.astype('float32')\n",
    "valid_data = valid_data.astype('float32')\n",
    "test_data = test_data.astype('float32')"
   ]
  },
  {
   "cell_type": "code",
   "execution_count": null,
   "metadata": {},
   "outputs": [],
   "source": [
    "train_data /= 255\n",
    "valid_data /= 255\n",
    "test_data /= 255"
   ]
  },
  {
   "cell_type": "code",
   "execution_count": null,
   "metadata": {},
   "outputs": [],
   "source": [
    "model = tf.keras.models.Sequential()"
   ]
  },
  {
   "cell_type": "code",
   "execution_count": null,
   "metadata": {},
   "outputs": [],
   "source": [
    "# model.add(tf.keras.layers.Flatten())\n",
    "model.add(tf.keras.layers.Dense(512, activation=tf.nn.relu, input_shape=(784,)))\n",
    "model.add(tf.keras.layers.Dropout(0.2))\n",
    "model.add(tf.keras.layers.Dense(512, activation=tf.nn.relu))\n",
    "model.add(tf.keras.layers.Dropout(0.2))\n",
    "model.add(tf.keras.layers.Dense(47, activation=tf.nn.softmax))"
   ]
  },
  {
   "cell_type": "code",
   "execution_count": null,
   "metadata": {},
   "outputs": [],
   "source": [
    "model.compile(optimizer=tf.optimizers.Adam(), loss='categorical_crossentropy', metrics=['accuracy'])"
   ]
  },
  {
   "cell_type": "code",
   "execution_count": null,
   "metadata": {
    "tags": []
   },
   "outputs": [],
   "source": [
    "model.fit(train_data, train_label, epochs=5, batch_size=256)"
   ]
  },
  {
   "cell_type": "code",
   "execution_count": null,
   "metadata": {
    "tags": []
   },
   "outputs": [],
   "source": [
    "val_loss, val_acc = model.evaluate(valid_data, valid_label)"
   ]
  },
  {
   "source": [
    "predictions = model.predict([test_data])"
   ],
   "cell_type": "code",
   "metadata": {},
   "execution_count": null,
   "outputs": []
  },
  {
   "cell_type": "code",
   "execution_count": null,
   "metadata": {},
   "outputs": [],
   "source": [
    "rows = 5 # defining no. of rows in figure\n",
    "cols = 10 # defining no. of colums in figure\n",
    "\n",
    "f = plt.figure(figsize=(2 * cols, 2 * rows)) # defining a figure \n",
    "\n",
    "for i in range(rows * cols): \n",
    "    f.add_subplot(rows, cols, i+1) # adding sub plot to figure on each iteration\n",
    "    plt.imshow(test_data[i].reshape([28,28]),cmap=\"gray\")\n",
    "    plt.axis(\"off\")\n",
    "    plt.title(str('P: ' + label[numpy.argmax(predictions[i])]) + str(' L: ' + label[numpy.argmax(test_label[i])]) , y=-0.2,color=\"green\")"
   ]
  },
  {
   "cell_type": "code",
   "execution_count": null,
   "metadata": {
    "tags": []
   },
   "outputs": [],
   "source": [
    "model.save('mlp_model')"
   ]
  },
  {
   "cell_type": "code",
   "execution_count": null,
   "metadata": {},
   "outputs": [],
   "source": [
    "new_model = tf.keras.models.load_model('mlp_model')"
   ]
  },
  {
   "cell_type": "code",
   "execution_count": null,
   "metadata": {
    "tags": []
   },
   "outputs": [],
   "source": [
    "loss, acc = new_model.evaluate(test_data, test_label)"
   ]
  }
 ]
}